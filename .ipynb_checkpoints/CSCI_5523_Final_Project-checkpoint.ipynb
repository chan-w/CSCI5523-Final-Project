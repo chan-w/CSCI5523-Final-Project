{
 "cells": [
  {
   "cell_type": "markdown",
   "id": "a5af0573",
   "metadata": {},
   "source": [
    "# CSCI 5523 Final Project\n",
    "\n",
    "By: Peter Genatempo, Will Teachout, Will Chan, Jack Johnson, & Lukas Buhler"
   ]
  },
  {
   "cell_type": "markdown",
   "id": "ea0fd697",
   "metadata": {},
   "source": [
    "## OVERVIEW\n",
    "\n",
    "We want to be able to predict whether or not someone will get a positive response back from a landlord on an application based on their race and sex.  From this we can see the impact that residential laws had on reducing descrimination on applicants.\n",
    "\n",
    "This is an important issue because housing discrimination affects many people, so many in fact that a law had to be passed to prevent it. This will illustrate both the degree of this discrimination and whether the passing of a law against it had an effect on it.\n",
    "\n",
    "We hope to see the impact of the different variables on whether someone will get a positive or negative response. We are expecting Race and Gender to be very impactful on the response."
   ]
  },
  {
   "cell_type": "markdown",
   "id": "91f29a9e",
   "metadata": {},
   "source": [
    "## DATA\n",
    "\n",
    "Positive or negative (binary) responses to housing applications in MSP. With predictors consisting of the statistics of the rental unit as well as race and sex information on the applicant.\n",
    "\n",
    "Credit: This dataset comes from research done by Dr. Deborah Rho (University of St. Thomas) and Marina Mileo Gorzig (Saint Catherine University)."
   ]
  },
  {
   "cell_type": "code",
   "execution_count": 1,
   "id": "fabd4d5b",
   "metadata": {},
   "outputs": [],
   "source": [
    "# load packages\n",
    "import pandas as pd\n",
    "import numpy as np\n",
    "import matplotlib.pyplot as plt"
   ]
  },
  {
   "cell_type": "code",
   "execution_count": 2,
   "id": "e24b740a",
   "metadata": {},
   "outputs": [],
   "source": [
    "# import dataset\n",
    "data = pd.read_csv('StatData.csv')"
   ]
  },
  {
   "cell_type": "markdown",
   "id": "3a7ee466",
   "metadata": {},
   "source": [
    "## EXPLORATORY DATA ANALYSIS"
   ]
  },
  {
   "cell_type": "code",
   "execution_count": 3,
   "id": "e2711c0a",
   "metadata": {},
   "outputs": [
    {
     "data": {
      "text/html": [
       "<div>\n",
       "<style scoped>\n",
       "    .dataframe tbody tr th:only-of-type {\n",
       "        vertical-align: middle;\n",
       "    }\n",
       "\n",
       "    .dataframe tbody tr th {\n",
       "        vertical-align: top;\n",
       "    }\n",
       "\n",
       "    .dataframe thead th {\n",
       "        text-align: right;\n",
       "    }\n",
       "</style>\n",
       "<table border=\"1\" class=\"dataframe\">\n",
       "  <thead>\n",
       "    <tr style=\"text-align: right;\">\n",
       "      <th></th>\n",
       "      <th>batch</th>\n",
       "      <th>Appnumber</th>\n",
       "      <th>Type</th>\n",
       "      <th>MonthlyRent</th>\n",
       "      <th>Size</th>\n",
       "      <th>RacialGroup</th>\n",
       "      <th>Sex</th>\n",
       "      <th>contact</th>\n",
       "      <th>Minneapolis</th>\n",
       "      <th>Law</th>\n",
       "      <th>Positive</th>\n",
       "      <th>StayAtHome</th>\n",
       "    </tr>\n",
       "  </thead>\n",
       "  <tbody>\n",
       "    <tr>\n",
       "      <th>0</th>\n",
       "      <td>5</td>\n",
       "      <td>1</td>\n",
       "      <td>2</td>\n",
       "      <td>1000</td>\n",
       "      <td>One bedroom units</td>\n",
       "      <td>White American</td>\n",
       "      <td>Female</td>\n",
       "      <td>Positive contact</td>\n",
       "      <td>Minneapolis</td>\n",
       "      <td>0</td>\n",
       "      <td>1</td>\n",
       "      <td>0</td>\n",
       "    </tr>\n",
       "    <tr>\n",
       "      <th>1</th>\n",
       "      <td>5</td>\n",
       "      <td>2</td>\n",
       "      <td>2</td>\n",
       "      <td>1000</td>\n",
       "      <td>One bedroom units</td>\n",
       "      <td>White American</td>\n",
       "      <td>Male</td>\n",
       "      <td>Positive contact</td>\n",
       "      <td>Minneapolis</td>\n",
       "      <td>0</td>\n",
       "      <td>1</td>\n",
       "      <td>0</td>\n",
       "    </tr>\n",
       "    <tr>\n",
       "      <th>2</th>\n",
       "      <td>5</td>\n",
       "      <td>3</td>\n",
       "      <td>2</td>\n",
       "      <td>1000</td>\n",
       "      <td>One bedroom units</td>\n",
       "      <td>Somali American</td>\n",
       "      <td>Female</td>\n",
       "      <td>Positive contact</td>\n",
       "      <td>Minneapolis</td>\n",
       "      <td>0</td>\n",
       "      <td>1</td>\n",
       "      <td>0</td>\n",
       "    </tr>\n",
       "    <tr>\n",
       "      <th>3</th>\n",
       "      <td>6</td>\n",
       "      <td>1</td>\n",
       "      <td>2</td>\n",
       "      <td>1410</td>\n",
       "      <td>One bedroom units</td>\n",
       "      <td>White American</td>\n",
       "      <td>Male</td>\n",
       "      <td>Ghosted</td>\n",
       "      <td>St. Paul and suburbs</td>\n",
       "      <td>0</td>\n",
       "      <td>0</td>\n",
       "      <td>0</td>\n",
       "    </tr>\n",
       "    <tr>\n",
       "      <th>4</th>\n",
       "      <td>6</td>\n",
       "      <td>2</td>\n",
       "      <td>2</td>\n",
       "      <td>1410</td>\n",
       "      <td>One bedroom units</td>\n",
       "      <td>African American</td>\n",
       "      <td>Female</td>\n",
       "      <td>Positive contact</td>\n",
       "      <td>St. Paul and suburbs</td>\n",
       "      <td>0</td>\n",
       "      <td>1</td>\n",
       "      <td>0</td>\n",
       "    </tr>\n",
       "  </tbody>\n",
       "</table>\n",
       "</div>"
      ],
      "text/plain": [
       "   batch  Appnumber  Type  MonthlyRent               Size       RacialGroup  \\\n",
       "0      5          1     2         1000  One bedroom units    White American   \n",
       "1      5          2     2         1000  One bedroom units    White American   \n",
       "2      5          3     2         1000  One bedroom units   Somali American   \n",
       "3      6          1     2         1410  One bedroom units    White American   \n",
       "4      6          2     2         1410  One bedroom units  African American   \n",
       "\n",
       "      Sex           contact           Minneapolis  Law  Positive  StayAtHome  \n",
       "0  Female  Positive contact           Minneapolis    0         1           0  \n",
       "1    Male  Positive contact           Minneapolis    0         1           0  \n",
       "2  Female  Positive contact           Minneapolis    0         1           0  \n",
       "3    Male           Ghosted  St. Paul and suburbs    0         0           0  \n",
       "4  Female  Positive contact  St. Paul and suburbs    0         1           0  "
      ]
     },
     "execution_count": 3,
     "metadata": {},
     "output_type": "execute_result"
    }
   ],
   "source": [
    "# check head\n",
    "data.head()"
   ]
  },
  {
   "cell_type": "code",
   "execution_count": 4,
   "id": "712aadec",
   "metadata": {},
   "outputs": [
    {
     "data": {
      "text/plain": [
       "(5583, 12)"
      ]
     },
     "execution_count": 4,
     "metadata": {},
     "output_type": "execute_result"
    }
   ],
   "source": [
    "# check shape of data\n",
    "np.shape(data)"
   ]
  },
  {
   "cell_type": "code",
   "execution_count": 5,
   "id": "73a6fe42",
   "metadata": {},
   "outputs": [
    {
     "data": {
      "text/html": [
       "<div>\n",
       "<style scoped>\n",
       "    .dataframe tbody tr th:only-of-type {\n",
       "        vertical-align: middle;\n",
       "    }\n",
       "\n",
       "    .dataframe tbody tr th {\n",
       "        vertical-align: top;\n",
       "    }\n",
       "\n",
       "    .dataframe thead th {\n",
       "        text-align: right;\n",
       "    }\n",
       "</style>\n",
       "<table border=\"1\" class=\"dataframe\">\n",
       "  <thead>\n",
       "    <tr style=\"text-align: right;\">\n",
       "      <th></th>\n",
       "      <th>batch</th>\n",
       "      <th>Appnumber</th>\n",
       "      <th>Type</th>\n",
       "      <th>MonthlyRent</th>\n",
       "      <th>Law</th>\n",
       "      <th>Positive</th>\n",
       "      <th>StayAtHome</th>\n",
       "    </tr>\n",
       "  </thead>\n",
       "  <tbody>\n",
       "    <tr>\n",
       "      <th>count</th>\n",
       "      <td>5583.000000</td>\n",
       "      <td>5583.000000</td>\n",
       "      <td>5583.000000</td>\n",
       "      <td>5583.000000</td>\n",
       "      <td>5583.000000</td>\n",
       "      <td>5583.000000</td>\n",
       "      <td>5583.000000</td>\n",
       "    </tr>\n",
       "    <tr>\n",
       "      <th>mean</th>\n",
       "      <td>854.912771</td>\n",
       "      <td>1.595916</td>\n",
       "      <td>2.611141</td>\n",
       "      <td>1527.976715</td>\n",
       "      <td>0.494895</td>\n",
       "      <td>0.357335</td>\n",
       "      <td>0.115708</td>\n",
       "    </tr>\n",
       "    <tr>\n",
       "      <th>std</th>\n",
       "      <td>683.738709</td>\n",
       "      <td>0.726524</td>\n",
       "      <td>1.107189</td>\n",
       "      <td>598.067114</td>\n",
       "      <td>0.500019</td>\n",
       "      <td>0.479258</td>\n",
       "      <td>0.319904</td>\n",
       "    </tr>\n",
       "    <tr>\n",
       "      <th>min</th>\n",
       "      <td>5.000000</td>\n",
       "      <td>1.000000</td>\n",
       "      <td>1.000000</td>\n",
       "      <td>475.000000</td>\n",
       "      <td>0.000000</td>\n",
       "      <td>0.000000</td>\n",
       "      <td>0.000000</td>\n",
       "    </tr>\n",
       "    <tr>\n",
       "      <th>25%</th>\n",
       "      <td>253.000000</td>\n",
       "      <td>1.000000</td>\n",
       "      <td>2.000000</td>\n",
       "      <td>1112.500000</td>\n",
       "      <td>0.000000</td>\n",
       "      <td>0.000000</td>\n",
       "      <td>0.000000</td>\n",
       "    </tr>\n",
       "    <tr>\n",
       "      <th>50%</th>\n",
       "      <td>613.000000</td>\n",
       "      <td>1.000000</td>\n",
       "      <td>2.000000</td>\n",
       "      <td>1400.000000</td>\n",
       "      <td>0.000000</td>\n",
       "      <td>0.000000</td>\n",
       "      <td>0.000000</td>\n",
       "    </tr>\n",
       "    <tr>\n",
       "      <th>75%</th>\n",
       "      <td>1505.500000</td>\n",
       "      <td>2.000000</td>\n",
       "      <td>4.000000</td>\n",
       "      <td>1795.000000</td>\n",
       "      <td>1.000000</td>\n",
       "      <td>1.000000</td>\n",
       "      <td>0.000000</td>\n",
       "    </tr>\n",
       "    <tr>\n",
       "      <th>max</th>\n",
       "      <td>2211.000000</td>\n",
       "      <td>3.000000</td>\n",
       "      <td>4.000000</td>\n",
       "      <td>6000.000000</td>\n",
       "      <td>1.000000</td>\n",
       "      <td>1.000000</td>\n",
       "      <td>1.000000</td>\n",
       "    </tr>\n",
       "  </tbody>\n",
       "</table>\n",
       "</div>"
      ],
      "text/plain": [
       "             batch    Appnumber         Type  MonthlyRent          Law  \\\n",
       "count  5583.000000  5583.000000  5583.000000  5583.000000  5583.000000   \n",
       "mean    854.912771     1.595916     2.611141  1527.976715     0.494895   \n",
       "std     683.738709     0.726524     1.107189   598.067114     0.500019   \n",
       "min       5.000000     1.000000     1.000000   475.000000     0.000000   \n",
       "25%     253.000000     1.000000     2.000000  1112.500000     0.000000   \n",
       "50%     613.000000     1.000000     2.000000  1400.000000     0.000000   \n",
       "75%    1505.500000     2.000000     4.000000  1795.000000     1.000000   \n",
       "max    2211.000000     3.000000     4.000000  6000.000000     1.000000   \n",
       "\n",
       "          Positive   StayAtHome  \n",
       "count  5583.000000  5583.000000  \n",
       "mean      0.357335     0.115708  \n",
       "std       0.479258     0.319904  \n",
       "min       0.000000     0.000000  \n",
       "25%       0.000000     0.000000  \n",
       "50%       0.000000     0.000000  \n",
       "75%       1.000000     0.000000  \n",
       "max       1.000000     1.000000  "
      ]
     },
     "execution_count": 5,
     "metadata": {},
     "output_type": "execute_result"
    }
   ],
   "source": [
    "# description of numerical data\n",
    "data.describe()"
   ]
  },
  {
   "cell_type": "code",
   "execution_count": 6,
   "id": "416fa84d",
   "metadata": {},
   "outputs": [
    {
     "data": {
      "text/plain": [
       "True"
      ]
     },
     "execution_count": 6,
     "metadata": {},
     "output_type": "execute_result"
    }
   ],
   "source": [
    "# ***we need to decide what to do with these null values***\n",
    "\n",
    "# check for null values\n",
    "data.isnull().values.any()"
   ]
  },
  {
   "cell_type": "code",
   "execution_count": 7,
   "id": "aa80f2ee",
   "metadata": {},
   "outputs": [
    {
     "data": {
      "image/png": "[encoded data removed]",
      "text/plain": [
       "<Figure size 432x288 with 1 Axes>"
      ]
     },
     "metadata": {
      "needs_background": "light"
     },
     "output_type": "display_data"
    }
   ],
   "source": [
    "positive_contact = sum(data['Positive'] == 1)\n",
    "negative_contact = sum(data['Positive'] == 0)\n",
    "\n",
    "plt.bar('Positive', positive_contact, color = 'g', label='Positive')\n",
    "plt.bar('Negative', negative_contact, color = 'r', label='Negative')\n",
    "plt.title('Number of People with Positive and Negative Contacts')\n",
    "plt.xlabel('Contact Status')\n",
    "plt.ylabel('Number of People')\n",
    "plt.show()"
   ]
  },
  {
   "cell_type": "code",
   "execution_count": 10,
   "id": "4caf0384",
   "metadata": {},
   "outputs": [
    {
     "data": {
      "image/png": "[encoded data removed]",
      "text/plain": [
       "<Figure size 432x288 with 1 Axes>"
      ]
     },
     "metadata": {
      "needs_background": "light"
     },
     "output_type": "display_data"
    }
   ],
   "source": [
    "male_applicant = sum(data['Sex'] == 'Male')\n",
    "female_applicant = sum(data['Sex'] == 'Female')\n",
    "\n",
    "plt.bar('Male', male_applicant, color = 'b', label='Male')\n",
    "plt.bar('Female', female_applicant, color = 'b', label='Female')\n",
    "plt.title('Sex Distribution')\n",
    "plt.xlabel('Sex')\n",
    "plt.ylabel('Number of People')\n",
    "plt.show()"
   ]
  },
  {
   "cell_type": "code",
   "execution_count": 12,
   "id": "1565e6be",
   "metadata": {},
   "outputs": [
    {
     "data": {
      "text/plain": [
       "array(['White American', 'Somali American', 'African American'],\n",
       "      dtype=object)"
      ]
     },
     "execution_count": 12,
     "metadata": {},
     "output_type": "execute_result"
    }
   ],
   "source": [
    "# view racial group categories\n",
    "data['RacialGroup'].unique()"
   ]
  },
  {
   "cell_type": "code",
   "execution_count": 14,
   "id": "dd13230a",
   "metadata": {},
   "outputs": [
    {
     "data": {
      "image/png": "[encoded data removed]",
      "text/plain": [
       "<Figure size 432x288 with 1 Axes>"
      ]
     },
     "metadata": {},
     "output_type": "display_data"
    }
   ],
   "source": [
    "WA = sum(data['RacialGroup'] == 'White American')\n",
    "SA = sum(data['RacialGroup'] == 'Somali American')\n",
    "AA = sum(data['RacialGroup'] == 'African American')\n",
    "\n",
    "y = [WA, SA, AA]\n",
    "groups = ['White American', 'Somali American', 'African American']\n",
    "\n",
    "plt.pie(y, labels=groups)\n",
    "plt.title('Racial Distribution')\n",
    "plt.show()"
   ]
  },
  {
   "cell_type": "markdown",
   "id": "f35f49d8",
   "metadata": {},
   "source": [
    "## MODELS"
   ]
  },
  {
   "cell_type": "code",
   "execution_count": null,
   "id": "38612dae",
   "metadata": {},
   "outputs": [],
   "source": []
  },
  {
   "cell_type": "code",
   "execution_count": null,
   "id": "67716158",
   "metadata": {},
   "outputs": [],
   "source": []
  },
  {
   "cell_type": "code",
   "execution_count": null,
   "id": "dd0243f7",
   "metadata": {},
   "outputs": [],
   "source": []
  }
 ],
 "metadata": {
  "kernelspec": {
   "display_name": "Python 3 (ipykernel)",
   "language": "python",
   "name": "python3"
  },
  "language_info": {
   "codemirror_mode": {
    "name": "ipython",
    "version": 3
   },
   "file_extension": ".py",
   "mimetype": "text/x-python",
   "name": "python",
   "nbconvert_exporter": "python",
   "pygments_lexer": "ipython3",
   "version": "3.9.7"
  }
 },
 "nbformat": 4,
 "nbformat_minor": 5
}
