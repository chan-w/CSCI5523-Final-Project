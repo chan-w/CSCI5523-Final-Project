{
 "cells": [
  {
   "cell_type": "markdown",
   "id": "a5af0573",
   "metadata": {},
   "source": [
    "# CSCI 5523 Final Project\n",
    "\n",
    "By: Peter Genatempo, Will Teachout, Will Chan, Jack Johnson, & Lukas Buhler"
   ]
  },
  {
   "cell_type": "markdown",
   "id": "ea0fd697",
   "metadata": {},
   "source": [
    "## OVERVIEW\n",
    "\n",
    "We want to be able to predict whether or not someone will get a positive response back from a landlord on an application based on their race and sex.  From this we can see the impact that residential laws had on reducing descrimination on applicants.\n",
    "\n",
    "This is an important issue because housing discrimination affects many people, so many in fact that a law had to be passed to prevent it. This will illustrate both the degree of this discrimination and whether the passing of a law against it had an effect on it.\n",
    "\n",
    "We hope to see the impact of the different variables on whether someone will get a positive or negative response. We are expecting Race and Gender to be very impactful on the response."
   ]
  },
  {
   "cell_type": "markdown",
   "id": "91f29a9e",
   "metadata": {},
   "source": [
    "## DATA\n",
    "\n",
    "Positive or negative (binary) responses to housing applications in MSP. With predictors consisting of the statistics of the rental unit as well as race and sex information on the applicant.\n",
    "\n",
    "Credit: This dataset comes from research done by Dr. Deborah Rho (University of St. Thomas) and Marina Mileo Gorzig (Saint Catherine University)."
   ]
  },
  {
   "cell_type": "code",
   "execution_count": 64,
   "id": "fabd4d5b",
   "metadata": {},
   "outputs": [],
   "source": [
    "# load packages\n",
    "import pandas as pd\n",
    "import numpy as np\n",
    "import matplotlib.pyplot as plt\n",
    "\n",
    "from sklearn.metrics import accuracy_score\n",
    "from sklearn.model_selection import train_test_split\n",
    "from sklearn.neighbors import KNeighborsClassifier"
   ]
  },
  {
   "cell_type": "code",
   "execution_count": 65,
   "id": "e24b740a",
   "metadata": {},
   "outputs": [],
   "source": [
    "# import dataset\n",
    "data = pd.read_csv('StatData.csv')"
   ]
  },
  {
   "cell_type": "markdown",
   "id": "3a7ee466",
   "metadata": {},
   "source": [
    "## EXPLORATORY DATA ANALYSIS"
   ]
  },
  {
   "cell_type": "code",
   "execution_count": 66,
   "id": "e2711c0a",
   "metadata": {},
   "outputs": [
    {
     "data": {
      "text/html": [
       "<div>\n",
       "<style scoped>\n",
       "    .dataframe tbody tr th:only-of-type {\n",
       "        vertical-align: middle;\n",
       "    }\n",
       "\n",
       "    .dataframe tbody tr th {\n",
       "        vertical-align: top;\n",
       "    }\n",
       "\n",
       "    .dataframe thead th {\n",
       "        text-align: right;\n",
       "    }\n",
       "</style>\n",
       "<table border=\"1\" class=\"dataframe\">\n",
       "  <thead>\n",
       "    <tr style=\"text-align: right;\">\n",
       "      <th></th>\n",
       "      <th>batch</th>\n",
       "      <th>Appnumber</th>\n",
       "      <th>Type</th>\n",
       "      <th>MonthlyRent</th>\n",
       "      <th>Size</th>\n",
       "      <th>RacialGroup</th>\n",
       "      <th>Sex</th>\n",
       "      <th>contact</th>\n",
       "      <th>Minneapolis</th>\n",
       "      <th>Law</th>\n",
       "      <th>Positive</th>\n",
       "      <th>StayAtHome</th>\n",
       "    </tr>\n",
       "  </thead>\n",
       "  <tbody>\n",
       "    <tr>\n",
       "      <th>0</th>\n",
       "      <td>5</td>\n",
       "      <td>1</td>\n",
       "      <td>2</td>\n",
       "      <td>1000</td>\n",
       "      <td>One bedroom units</td>\n",
       "      <td>White American</td>\n",
       "      <td>Female</td>\n",
       "      <td>Positive contact</td>\n",
       "      <td>Minneapolis</td>\n",
       "      <td>0</td>\n",
       "      <td>1</td>\n",
       "      <td>0</td>\n",
       "    </tr>\n",
       "    <tr>\n",
       "      <th>1</th>\n",
       "      <td>5</td>\n",
       "      <td>2</td>\n",
       "      <td>2</td>\n",
       "      <td>1000</td>\n",
       "      <td>One bedroom units</td>\n",
       "      <td>White American</td>\n",
       "      <td>Male</td>\n",
       "      <td>Positive contact</td>\n",
       "      <td>Minneapolis</td>\n",
       "      <td>0</td>\n",
       "      <td>1</td>\n",
       "      <td>0</td>\n",
       "    </tr>\n",
       "    <tr>\n",
       "      <th>2</th>\n",
       "      <td>5</td>\n",
       "      <td>3</td>\n",
       "      <td>2</td>\n",
       "      <td>1000</td>\n",
       "      <td>One bedroom units</td>\n",
       "      <td>Somali American</td>\n",
       "      <td>Female</td>\n",
       "      <td>Positive contact</td>\n",
       "      <td>Minneapolis</td>\n",
       "      <td>0</td>\n",
       "      <td>1</td>\n",
       "      <td>0</td>\n",
       "    </tr>\n",
       "    <tr>\n",
       "      <th>3</th>\n",
       "      <td>6</td>\n",
       "      <td>1</td>\n",
       "      <td>2</td>\n",
       "      <td>1410</td>\n",
       "      <td>One bedroom units</td>\n",
       "      <td>White American</td>\n",
       "      <td>Male</td>\n",
       "      <td>Ghosted</td>\n",
       "      <td>St. Paul and suburbs</td>\n",
       "      <td>0</td>\n",
       "      <td>0</td>\n",
       "      <td>0</td>\n",
       "    </tr>\n",
       "    <tr>\n",
       "      <th>4</th>\n",
       "      <td>6</td>\n",
       "      <td>2</td>\n",
       "      <td>2</td>\n",
       "      <td>1410</td>\n",
       "      <td>One bedroom units</td>\n",
       "      <td>African American</td>\n",
       "      <td>Female</td>\n",
       "      <td>Positive contact</td>\n",
       "      <td>St. Paul and suburbs</td>\n",
       "      <td>0</td>\n",
       "      <td>1</td>\n",
       "      <td>0</td>\n",
       "    </tr>\n",
       "  </tbody>\n",
       "</table>\n",
       "</div>"
      ],
      "text/plain": [
       "   batch  Appnumber  Type  MonthlyRent               Size       RacialGroup  \\\n",
       "0      5          1     2         1000  One bedroom units    White American   \n",
       "1      5          2     2         1000  One bedroom units    White American   \n",
       "2      5          3     2         1000  One bedroom units   Somali American   \n",
       "3      6          1     2         1410  One bedroom units    White American   \n",
       "4      6          2     2         1410  One bedroom units  African American   \n",
       "\n",
       "      Sex           contact           Minneapolis  Law  Positive  StayAtHome  \n",
       "0  Female  Positive contact           Minneapolis    0         1           0  \n",
       "1    Male  Positive contact           Minneapolis    0         1           0  \n",
       "2  Female  Positive contact           Minneapolis    0         1           0  \n",
       "3    Male           Ghosted  St. Paul and suburbs    0         0           0  \n",
       "4  Female  Positive contact  St. Paul and suburbs    0         1           0  "
      ]
     },
     "execution_count": 66,
     "metadata": {},
     "output_type": "execute_result"
    }
   ],
   "source": [
    "# check head\n",
    "data.head()"
   ]
  },
  {
   "cell_type": "code",
   "execution_count": 67,
   "id": "712aadec",
   "metadata": {},
   "outputs": [
    {
     "data": {
      "text/plain": [
       "(5583, 12)"
      ]
     },
     "execution_count": 67,
     "metadata": {},
     "output_type": "execute_result"
    }
   ],
   "source": [
    "# check shape of data\n",
    "np.shape(data)"
   ]
  },
  {
   "cell_type": "code",
   "execution_count": 68,
   "id": "73a6fe42",
   "metadata": {},
   "outputs": [
    {
     "data": {
      "text/html": [
       "<div>\n",
       "<style scoped>\n",
       "    .dataframe tbody tr th:only-of-type {\n",
       "        vertical-align: middle;\n",
       "    }\n",
       "\n",
       "    .dataframe tbody tr th {\n",
       "        vertical-align: top;\n",
       "    }\n",
       "\n",
       "    .dataframe thead th {\n",
       "        text-align: right;\n",
       "    }\n",
       "</style>\n",
       "<table border=\"1\" class=\"dataframe\">\n",
       "  <thead>\n",
       "    <tr style=\"text-align: right;\">\n",
       "      <th></th>\n",
       "      <th>batch</th>\n",
       "      <th>Appnumber</th>\n",
       "      <th>Type</th>\n",
       "      <th>MonthlyRent</th>\n",
       "      <th>Law</th>\n",
       "      <th>Positive</th>\n",
       "      <th>StayAtHome</th>\n",
       "    </tr>\n",
       "  </thead>\n",
       "  <tbody>\n",
       "    <tr>\n",
       "      <th>count</th>\n",
       "      <td>5583.000000</td>\n",
       "      <td>5583.000000</td>\n",
       "      <td>5583.000000</td>\n",
       "      <td>5583.000000</td>\n",
       "      <td>5583.000000</td>\n",
       "      <td>5583.000000</td>\n",
       "      <td>5583.000000</td>\n",
       "    </tr>\n",
       "    <tr>\n",
       "      <th>mean</th>\n",
       "      <td>854.912771</td>\n",
       "      <td>1.595916</td>\n",
       "      <td>2.611141</td>\n",
       "      <td>1527.976715</td>\n",
       "      <td>0.494895</td>\n",
       "      <td>0.357335</td>\n",
       "      <td>0.115708</td>\n",
       "    </tr>\n",
       "    <tr>\n",
       "      <th>std</th>\n",
       "      <td>683.738709</td>\n",
       "      <td>0.726524</td>\n",
       "      <td>1.107189</td>\n",
       "      <td>598.067114</td>\n",
       "      <td>0.500019</td>\n",
       "      <td>0.479258</td>\n",
       "      <td>0.319904</td>\n",
       "    </tr>\n",
       "    <tr>\n",
       "      <th>min</th>\n",
       "      <td>5.000000</td>\n",
       "      <td>1.000000</td>\n",
       "      <td>1.000000</td>\n",
       "      <td>475.000000</td>\n",
       "      <td>0.000000</td>\n",
       "      <td>0.000000</td>\n",
       "      <td>0.000000</td>\n",
       "    </tr>\n",
       "    <tr>\n",
       "      <th>25%</th>\n",
       "      <td>253.000000</td>\n",
       "      <td>1.000000</td>\n",
       "      <td>2.000000</td>\n",
       "      <td>1112.500000</td>\n",
       "      <td>0.000000</td>\n",
       "      <td>0.000000</td>\n",
       "      <td>0.000000</td>\n",
       "    </tr>\n",
       "    <tr>\n",
       "      <th>50%</th>\n",
       "      <td>613.000000</td>\n",
       "      <td>1.000000</td>\n",
       "      <td>2.000000</td>\n",
       "      <td>1400.000000</td>\n",
       "      <td>0.000000</td>\n",
       "      <td>0.000000</td>\n",
       "      <td>0.000000</td>\n",
       "    </tr>\n",
       "    <tr>\n",
       "      <th>75%</th>\n",
       "      <td>1505.500000</td>\n",
       "      <td>2.000000</td>\n",
       "      <td>4.000000</td>\n",
       "      <td>1795.000000</td>\n",
       "      <td>1.000000</td>\n",
       "      <td>1.000000</td>\n",
       "      <td>0.000000</td>\n",
       "    </tr>\n",
       "    <tr>\n",
       "      <th>max</th>\n",
       "      <td>2211.000000</td>\n",
       "      <td>3.000000</td>\n",
       "      <td>4.000000</td>\n",
       "      <td>6000.000000</td>\n",
       "      <td>1.000000</td>\n",
       "      <td>1.000000</td>\n",
       "      <td>1.000000</td>\n",
       "    </tr>\n",
       "  </tbody>\n",
       "</table>\n",
       "</div>"
      ],
      "text/plain": [
       "             batch    Appnumber         Type  MonthlyRent          Law  \\\n",
       "count  5583.000000  5583.000000  5583.000000  5583.000000  5583.000000   \n",
       "mean    854.912771     1.595916     2.611141  1527.976715     0.494895   \n",
       "std     683.738709     0.726524     1.107189   598.067114     0.500019   \n",
       "min       5.000000     1.000000     1.000000   475.000000     0.000000   \n",
       "25%     253.000000     1.000000     2.000000  1112.500000     0.000000   \n",
       "50%     613.000000     1.000000     2.000000  1400.000000     0.000000   \n",
       "75%    1505.500000     2.000000     4.000000  1795.000000     1.000000   \n",
       "max    2211.000000     3.000000     4.000000  6000.000000     1.000000   \n",
       "\n",
       "          Positive   StayAtHome  \n",
       "count  5583.000000  5583.000000  \n",
       "mean      0.357335     0.115708  \n",
       "std       0.479258     0.319904  \n",
       "min       0.000000     0.000000  \n",
       "25%       0.000000     0.000000  \n",
       "50%       0.000000     0.000000  \n",
       "75%       1.000000     0.000000  \n",
       "max       1.000000     1.000000  "
      ]
     },
     "execution_count": 68,
     "metadata": {},
     "output_type": "execute_result"
    }
   ],
   "source": [
    "# description of numerical data\n",
    "data.describe()"
   ]
  },
  {
   "cell_type": "code",
   "execution_count": 69,
   "id": "416fa84d",
   "metadata": {},
   "outputs": [
    {
     "data": {
      "text/plain": [
       "True"
      ]
     },
     "execution_count": 69,
     "metadata": {},
     "output_type": "execute_result"
    }
   ],
   "source": [
    "# ***we need to decide what to do with these null values***\n",
    "\n",
    "# check for null values\n",
    "data.isnull().values.any()"
   ]
  },
  {
   "cell_type": "code",
   "execution_count": 70,
   "id": "eb39b5cd",
   "metadata": {},
   "outputs": [
    {
     "data": {
      "text/plain": [
       "array(['One bedroom units', 'Two or more bedrooms'], dtype=object)"
      ]
     },
     "execution_count": 70,
     "metadata": {},
     "output_type": "execute_result"
    }
   ],
   "source": [
    "# check potential 'Size' values\n",
    "data['Size'].unique()"
   ]
  },
  {
   "cell_type": "code",
   "execution_count": 71,
   "id": "9833e259",
   "metadata": {},
   "outputs": [
    {
     "data": {
      "image/png": "[encoded data removed]",
      "text/plain": [
       "<Figure size 432x288 with 1 Axes>"
      ]
     },
     "metadata": {
      "needs_background": "light"
     },
     "output_type": "display_data"
    }
   ],
   "source": [
    "# collect frequencies for each group\n",
    "one_positive = data[(data['Size'] == 'One bedroom units') & (data['Positive'] == 1)].count()\n",
    "one_negative = data[(data['Size'] == 'One bedroom units') & (data['Positive'] == 0)].count()\n",
    "more_positive = data[(data['Size'] == 'Two or more bedrooms') & (data['Positive'] == 1)].count()\n",
    "more_negative = data[(data['Size'] == 'Two or more bedrooms') & (data['Positive'] == 0)].count()\n",
    "\n",
    "# build plot\n",
    "plt.bar('One Bedroom Positive', one_positive, color = 'b')\n",
    "plt.bar('One Bedroom Negative', one_negative, color = 'b')\n",
    "plt.bar('Two+ Bedrooms Positive', more_positive, color = 'r')\n",
    "plt.bar('Two+ Bedrooms Negative', more_negative, color = 'r')\n",
    "plt.title('Rental Size and Contact Status')\n",
    "plt.xlabel('Rental Size')\n",
    "plt.ylabel('Number of People')\n",
    "plt.xticks(rotation=90)\n",
    "plt.show()"
   ]
  },
  {
   "cell_type": "markdown",
   "id": "75bfa064",
   "metadata": {},
   "source": [
    "Something that we can see from this plot is that for single bedroom listings the number of positive and negative responses are fairly similar.  However, for listings with two or more bedrooms there are a greater number of negative contacts than there are positive.  This might be happening for a multitude of reasonse (higher demand and low supply, applicant with familiy, etc.) but it would be interesting to look more into this."
   ]
  },
  {
   "cell_type": "code",
   "execution_count": 72,
   "id": "027bb3de",
   "metadata": {},
   "outputs": [
    {
     "data": {
      "image/png": "[encoded data removed]",
      "text/plain": [
       "<Figure size 432x288 with 1 Axes>"
      ]
     },
     "metadata": {
      "needs_background": "light"
     },
     "output_type": "display_data"
    }
   ],
   "source": [
    "# collect frequencies for each group\n",
    "# rent ranges are split between the 4 quartiles\n",
    "low_positive = data[(data['MonthlyRent'] < 1112.5) & (data['Positive'] == 1)].count()\n",
    "low_negative = data[(data['MonthlyRent'] < 1112.5) & (data['Positive'] == 0)].count()\n",
    "medlow_positive = data[(data['MonthlyRent'] < 1400) & (data['MonthlyRent'] >= 1112.5) & (data['Positive'] == 1)].count()\n",
    "medlow_negative = data[(data['MonthlyRent'] < 1400) & (data['MonthlyRent'] >= 1112.5) & (data['Positive'] == 0)].count()\n",
    "medhigh_positive = data[(data['MonthlyRent'] < 1795) & (data['MonthlyRent'] >= 1400) & (data['Positive'] == 1)].count()\n",
    "medhigh_negative = data[(data['MonthlyRent'] < 1795) & (data['MonthlyRent'] >= 1400) & (data['Positive'] == 0)].count()\n",
    "high_positive = data[(data['MonthlyRent'] >= 1795) & (data['Positive'] == 1)].count()\n",
    "high_negative = data[(data['MonthlyRent'] >= 1795) & (data['Positive'] == 0)].count()\n",
    "\n",
    "# build the plot\n",
    "plt.bar('Low Positive', low_positive, color = 'b')\n",
    "plt.bar('Low Negative', low_negative, color = 'b')\n",
    "plt.bar('Medium Low Positive', medlow_positive, color = 'r')\n",
    "plt.bar('Medium Low Negative', medlow_negative, color = 'r')\n",
    "plt.bar('Medium High Positive', medhigh_positive, color = 'b')\n",
    "plt.bar('Medium High Negative', medhigh_negative, color = 'b')\n",
    "plt.bar('High Positive', high_positive, color = 'r')\n",
    "plt.bar('High Negative', high_negative, color = 'r')\n",
    "plt.title('Monthly Rent and Contact Status')\n",
    "plt.xlabel('Rent Bracket')\n",
    "plt.ylabel('Number of People')\n",
    "plt.xticks(rotation=90)\n",
    "plt.show()"
   ]
  },
  {
   "cell_type": "markdown",
   "id": "2664f71e",
   "metadata": {},
   "source": [
    "This plot is interesting because there doesn't appear to be a difference in response frequencies for the different ranges of rent.  Listings at the bottom end of the spectrum have almost identical positive and negative contact frequencies as the listings at the top of the spectrum.  This wasn't something that we were expecting to see from the data since we thought there would be more negatives for cheap listings and more positives for expensive listings."
   ]
  },
  {
   "cell_type": "code",
   "execution_count": 73,
   "id": "416732ef",
   "metadata": {},
   "outputs": [
    {
     "data": {
      "text/plain": [
       "array(['Positive contact', 'Ghosted', 'Ambiguous contact',\n",
       "       'Negative contact'], dtype=object)"
      ]
     },
     "execution_count": 73,
     "metadata": {},
     "output_type": "execute_result"
    }
   ],
   "source": [
    "# list potential 'contact' values\n",
    "data['contact'].unique()"
   ]
  },
  {
   "cell_type": "code",
   "execution_count": 74,
   "id": "06d36825",
   "metadata": {},
   "outputs": [
    {
     "data": {
      "image/png": "[encoded data removed]",
      "text/plain": [
       "<Figure size 432x288 with 1 Axes>"
      ]
     },
     "metadata": {
      "needs_background": "light"
     },
     "output_type": "display_data"
    }
   ],
   "source": [
    "# collect contact frequencies\n",
    "positive_contact = sum(data['contact'] == 'Positive contact')\n",
    "ghosted_contact = sum(data['contact'] == 'Ghosted')\n",
    "ambiguous_contact = sum(data['contact'] == 'Ambiguous contact')\n",
    "negative_contact = sum(data['contact'] == 'Negative contact')\n",
    "\n",
    "# build plot\n",
    "plt.bar('Positive', positive_contact, color = 'b')\n",
    "plt.bar('Ghosted', ghosted_contact, color = 'b')\n",
    "plt.bar('Ambiguous', ambiguous_contact, color = 'b')\n",
    "plt.bar('Negative', negative_contact, color = 'b')\n",
    "plt.title('Contact Status Distribution')\n",
    "plt.xlabel('Contact Status')\n",
    "plt.ylabel('Number of People')\n",
    "plt.show()"
   ]
  },
  {
   "cell_type": "markdown",
   "id": "2ff8c9fd",
   "metadata": {},
   "source": [
    "It makes sense to see that there are much more ghostings than 'ambiguous' or 'negative' contacts since landlords are likely to just ignore people if they aren't interested in renting to them.  We should check and see how 'ghosted' and 'ambiguous' are classified as either positive or negative."
   ]
  },
  {
   "cell_type": "code",
   "execution_count": 75,
   "id": "aa80f2ee",
   "metadata": {},
   "outputs": [
    {
     "data": {
      "image/png": "[encoded data removed]",
      "text/plain": [
       "<Figure size 432x288 with 1 Axes>"
      ]
     },
     "metadata": {
      "needs_background": "light"
     },
     "output_type": "display_data"
    }
   ],
   "source": [
    "# collect group frequencies\n",
    "positive_contact = sum(data['Positive'] == 1)\n",
    "negative_contact = sum(data['Positive'] == 0)\n",
    "\n",
    "# build plot\n",
    "plt.bar('Positive', positive_contact, color = 'g')\n",
    "plt.bar('Negative', negative_contact, color = 'r')\n",
    "plt.title('Number of People with Positive and Negative Contacts')\n",
    "plt.xlabel('Contact Status')\n",
    "plt.ylabel('Number of People')\n",
    "plt.show()"
   ]
  },
  {
   "cell_type": "markdown",
   "id": "881568aa",
   "metadata": {},
   "source": [
    "As we can see from this plot, we were able to see that both 'ambiguous' and 'ghosted' are labeled as negative contacts.  This is logical and produces a dataset with more negative than positive contacts."
   ]
  },
  {
   "cell_type": "code",
   "execution_count": 76,
   "id": "4caf0384",
   "metadata": {},
   "outputs": [
    {
     "data": {
      "image/png": "[encoded data removed]",
      "text/plain": [
       "<Figure size 432x288 with 1 Axes>"
      ]
     },
     "metadata": {
      "needs_background": "light"
     },
     "output_type": "display_data"
    }
   ],
   "source": [
    "# collect group frequencies\n",
    "male_pos = data[(data['Sex'] == 'Male') & (data['Positive'] == 1)].count()\n",
    "male_neg = data[(data['Sex'] == 'Male') & (data['Positive'] == 0)].count()\n",
    "female_pos = data[(data['Sex'] == 'Female') & (data['Positive'] == 1)].count()\n",
    "female_neg = data[(data['Sex'] == 'Female') & (data['Positive'] == 0)].count()\n",
    "\n",
    "# build plot\n",
    "plt.bar('Male Positive', male_pos, color = 'b')\n",
    "plt.bar('Male Negative', male_neg, color = 'b')\n",
    "plt.bar('Female Positive', female_pos, color = 'r')\n",
    "plt.bar('Female Negative', female_neg, color = 'r')\n",
    "plt.title('Sex Distribution')\n",
    "plt.xlabel('Sex')\n",
    "plt.xticks(rotation=90)\n",
    "plt.ylabel('Number of People')\n",
    "plt.show()"
   ]
  },
  {
   "cell_type": "markdown",
   "id": "88b8d4e9",
   "metadata": {},
   "source": [
    "Looking at this plot there doesn't seem to be any difference between the type of contact someone would get based on their sex."
   ]
  },
  {
   "cell_type": "code",
   "execution_count": 77,
   "id": "1565e6be",
   "metadata": {},
   "outputs": [
    {
     "data": {
      "text/plain": [
       "array(['White American', 'Somali American', 'African American'],\n",
       "      dtype=object)"
      ]
     },
     "execution_count": 77,
     "metadata": {},
     "output_type": "execute_result"
    }
   ],
   "source": [
    "# view racial group categories\n",
    "data['RacialGroup'].unique()"
   ]
  },
  {
   "cell_type": "code",
   "execution_count": 78,
   "id": "dd13230a",
   "metadata": {},
   "outputs": [
    {
     "data": {
      "image/png": "[encoded data removed]",
      "text/plain": [
       "<Figure size 432x288 with 1 Axes>"
      ]
     },
     "metadata": {
      "needs_background": "light"
     },
     "output_type": "display_data"
    }
   ],
   "source": [
    "# collect group frequencies\n",
    "wa_pos = data[(data['RacialGroup'] == 'White American') & (data['Positive'] == 1)].count()\n",
    "wa_neg = data[(data['RacialGroup'] == 'White American') & (data['Positive'] == 0)].count()\n",
    "sa_pos = data[(data['RacialGroup'] == 'Somali American') & (data['Positive'] == 1)].count()\n",
    "sa_neg = data[(data['RacialGroup'] == 'Somali American') & (data['Positive'] == 0)].count()\n",
    "aa_pos = data[(data['RacialGroup'] == 'African American') & (data['Positive'] == 1)].count()\n",
    "aa_neg = data[(data['RacialGroup'] == 'African American') & (data['Positive'] == 0)].count()\n",
    "\n",
    "# build plot\n",
    "plt.bar('White American Positive', wa_pos, color = 'b')\n",
    "plt.bar('White American Negative', wa_neg, color = 'b')\n",
    "plt.bar('Somali American Positive', sa_pos, color = 'r')\n",
    "plt.bar('Somali American Negative', sa_neg, color = 'r')\n",
    "plt.bar('African American Positive', aa_pos, color = 'g')\n",
    "plt.bar('African American Negative', aa_neg, color = 'g')\n",
    "plt.title('Racial Distribution')\n",
    "plt.xlabel('Race')\n",
    "plt.xticks(rotation=90)\n",
    "plt.ylabel('Number of People')\n",
    "plt.show()"
   ]
  },
  {
   "cell_type": "markdown",
   "id": "75d57d9e",
   "metadata": {},
   "source": [
    "Interestingly there doesn't look to be a significant difference between the three races and the frequency that they got positive and negative responses."
   ]
  },
  {
   "cell_type": "code",
   "execution_count": 79,
   "id": "06a4b925",
   "metadata": {},
   "outputs": [
    {
     "data": {
      "text/plain": [
       "array(['Minneapolis', 'St. Paul and suburbs', nan], dtype=object)"
      ]
     },
     "execution_count": 79,
     "metadata": {},
     "output_type": "execute_result"
    }
   ],
   "source": [
    "# view locations\n",
    "data['Minneapolis'].unique()\n",
    "# nan has 0 occurances (not sure why this shows up in options above)"
   ]
  },
  {
   "cell_type": "code",
   "execution_count": 80,
   "id": "3fb87f8f",
   "metadata": {},
   "outputs": [
    {
     "data": {
      "image/png": "[encoded data removed]",
      "text/plain": [
       "<Figure size 432x288 with 1 Axes>"
      ]
     },
     "metadata": {
      "needs_background": "light"
     },
     "output_type": "display_data"
    }
   ],
   "source": [
    "# collect group frequencies\n",
    "mn_pos = data[(data['Minneapolis'] == 'Minneapolis') & (data['Positive'] == 1)].count()\n",
    "mn_neg = data[(data['Minneapolis'] == 'Minneapolis') & (data['Positive'] == 0)].count()\n",
    "sp_pos = data[(data['Minneapolis'] == 'St. Paul and suburbs') & (data['Positive'] == 1)].count()\n",
    "sp_neg = data[(data['Minneapolis'] == 'St. Paul and suburbs') & (data['Positive'] == 0)].count()\n",
    "\n",
    "# build plot\n",
    "plt.bar('Minneapolis Positive', mn_pos, color = 'b')\n",
    "plt.bar('Minneapolis Negative', mn_neg, color = 'b')\n",
    "plt.bar('St. Paul and Suburbs Positive', sp_pos, color = 'g')\n",
    "plt.bar('St. Paul and Suburbs Negative', sp_neg, color = 'g')\n",
    "plt.title('Location Distribution')\n",
    "plt.xlabel('Location')\n",
    "plt.xticks(rotation=90)\n",
    "plt.ylabel('Number of People')\n",
    "plt.show()"
   ]
  },
  {
   "cell_type": "markdown",
   "id": "974748f1",
   "metadata": {},
   "source": [
    "Location doesn't seem to have any difference on cantacts either."
   ]
  },
  {
   "cell_type": "code",
   "execution_count": 81,
   "id": "4641c853",
   "metadata": {},
   "outputs": [
    {
     "data": {
      "image/png": "[encoded data removed]",
      "text/plain": [
       "<Figure size 432x288 with 1 Axes>"
      ]
     },
     "metadata": {
      "needs_background": "light"
     },
     "output_type": "display_data"
    }
   ],
   "source": [
    "# collect group frequencies\n",
    "nolaw_pos = data[(data['Law'] == 0) & (data['Positive'] == 1)].count()\n",
    "nolaw_neg = data[(data['Law'] == 0) & (data['Positive'] == 0)].count()\n",
    "law_pos = data[(data['Law'] == 1) & (data['Positive'] == 1)].count()\n",
    "law_neg = data[(data['Law'] == 1) & (data['Positive'] == 0)].count()\n",
    "\n",
    "# build plot\n",
    "plt.bar('No Law Positive', nolaw_pos, color = 'b')\n",
    "plt.bar('No Law Negative', nolaw_neg, color = 'b')\n",
    "plt.bar('Law Positive', law_pos, color = 'g')\n",
    "plt.bar('Law Negative', law_neg, color = 'g')\n",
    "plt.title('Law Distribution')\n",
    "plt.xlabel('Law')\n",
    "plt.xticks(rotation=90)\n",
    "plt.ylabel('Number of People')\n",
    "plt.show()"
   ]
  },
  {
   "cell_type": "markdown",
   "id": "b9c28090",
   "metadata": {},
   "source": [
    "From this we can see that there isn't a change in the number of positive and negative contacts before and after the new law is passed.  What we should look at is if the type of people that get these responses has changed after the law is passed."
   ]
  },
  {
   "cell_type": "code",
   "execution_count": 82,
   "id": "1e6cb39b",
   "metadata": {},
   "outputs": [
    {
     "data": {
      "image/png": "[encoded data removed]",
      "text/plain": [
       "<Figure size 432x288 with 1 Axes>"
      ]
     },
     "metadata": {
      "needs_background": "light"
     },
     "output_type": "display_data"
    }
   ],
   "source": [
    "# collect group frequencies\n",
    "wa_pos_nl = data[(data['RacialGroup'] == 'White American') & (data['Positive'] == 1) & (data['Law'] == 0)].count()\n",
    "wa_neg_nl = data[(data['RacialGroup'] == 'White American') & (data['Positive'] == 0) & (data['Law'] == 0)].count()\n",
    "wa_pos_l = data[(data['RacialGroup'] == 'White American') & (data['Positive'] == 1) & (data['Law'] == 1)].count()\n",
    "wa_neg_l = data[(data['RacialGroup'] == 'White American') & (data['Positive'] == 0) & (data['Law'] == 1)].count()\n",
    "\n",
    "sa_pos_nl = data[(data['RacialGroup'] == 'Somali American') & (data['Positive'] == 1) & (data['Law'] == 0)].count()\n",
    "sa_neg_nl = data[(data['RacialGroup'] == 'Somali American') & (data['Positive'] == 0) & (data['Law'] == 0)].count()\n",
    "sa_pos_l = data[(data['RacialGroup'] == 'Somali American') & (data['Positive'] == 1) & (data['Law'] == 1)].count()\n",
    "sa_neg_l = data[(data['RacialGroup'] == 'Somali American') & (data['Positive'] == 0) & (data['Law'] == 1)].count()\n",
    "\n",
    "aa_pos_nl = data[(data['RacialGroup'] == 'African American') & (data['Positive'] == 1) & (data['Law'] == 0)].count()\n",
    "aa_neg_nl = data[(data['RacialGroup'] == 'African American') & (data['Positive'] == 0) & (data['Law'] == 0)].count()\n",
    "aa_pos_l = data[(data['RacialGroup'] == 'African American') & (data['Positive'] == 1) & (data['Law'] == 1)].count()\n",
    "aa_neg_l = data[(data['RacialGroup'] == 'African American') & (data['Positive'] == 0) & (data['Law'] == 1)].count()\n",
    "\n",
    "# build plot\n",
    "plt.bar('White American Positive No Law', wa_pos_nl, color = 'b')\n",
    "plt.bar('White American Negative No Law', wa_neg_nl, color = 'b')\n",
    "plt.bar('White American Positive Law', wa_pos_l, color = 'r')\n",
    "plt.bar('White American Negative Law', wa_neg_l, color = 'r')\n",
    "\n",
    "plt.bar('Somali American Positive No Law', sa_pos_nl, color = 'b')\n",
    "plt.bar('Somali American Negative No Law', sa_neg_nl, color = 'b')\n",
    "plt.bar('Somali American Positive Law', sa_pos_l, color = 'r')\n",
    "plt.bar('Somali American Negative Law', sa_neg_l, color = 'r')\n",
    "\n",
    "plt.bar('African American Positive No Law', aa_pos_nl, color = 'b')\n",
    "plt.bar('African American Negative No Law', aa_neg_nl, color = 'b')\n",
    "plt.bar('African American Positive Law', aa_pos_l, color = 'r')\n",
    "plt.bar('African American Negative Law', aa_neg_l, color = 'r')\n",
    "\n",
    "plt.title('Racial Distribution Before & After Law')\n",
    "plt.xlabel('Race')\n",
    "plt.xticks(rotation=90)\n",
    "plt.ylabel('Number of People')\n",
    "plt.show()"
   ]
  },
  {
   "cell_type": "markdown",
   "id": "3f766939",
   "metadata": {},
   "source": [
    "Passing the law doesn't look to have increased the frequency of positive contacts for any racial group.  All saw a decrease in positive contacts and an increase in negative contacts.  From this it doesn't look like the law had any effect on race.  Next lets look at gender to see if there was any change there."
   ]
  },
  {
   "cell_type": "code",
   "execution_count": 83,
   "id": "57ca6ed7",
   "metadata": {},
   "outputs": [
    {
     "data": {
      "image/png": "[encoded data removed]",
      "text/plain": [
       "<Figure size 432x288 with 1 Axes>"
      ]
     },
     "metadata": {
      "needs_background": "light"
     },
     "output_type": "display_data"
    }
   ],
   "source": [
    "# collect group frequencies\n",
    "m_pos_nl = data[(data['Sex'] == 'Male') & (data['Positive'] == 1) & (data['Law'] == 0)].count()\n",
    "m_neg_nl = data[(data['Sex'] == 'Male') & (data['Positive'] == 0) & (data['Law'] == 0)].count()\n",
    "m_pos_l = data[(data['Sex'] == 'Male') & (data['Positive'] == 1) & (data['Law'] == 1)].count()\n",
    "m_neg_l = data[(data['Sex'] == 'Male') & (data['Positive'] == 0) & (data['Law'] == 1)].count()\n",
    "\n",
    "fm_pos_nl = data[(data['Sex'] == 'Female') & (data['Positive'] == 1) & (data['Law'] == 0)].count()\n",
    "fm_neg_nl = data[(data['Sex'] == 'Female') & (data['Positive'] == 0) & (data['Law'] == 0)].count()\n",
    "fm_pos_l = data[(data['Sex'] == 'Female') & (data['Positive'] == 1) & (data['Law'] == 1)].count()\n",
    "fm_neg_l = data[(data['Sex'] == 'Female') & (data['Positive'] == 0) & (data['Law'] == 1)].count()\n",
    "\n",
    "# build plot\n",
    "plt.bar('Male Positive No Law', m_pos_nl, color = 'b')\n",
    "plt.bar('Male Negative No Law', m_neg_nl, color = 'b')\n",
    "plt.bar('Male Positive Law', m_pos_l, color = 'r')\n",
    "plt.bar('Male Negative Law', m_neg_l, color = 'r')\n",
    "\n",
    "plt.bar('Female Positive No Law', fm_pos_nl, color = 'b')\n",
    "plt.bar('Female Negative No Law', fm_neg_nl, color = 'b')\n",
    "plt.bar('Female Positive Law', fm_pos_l, color = 'r')\n",
    "plt.bar('Female Negative Law', fm_neg_l, color = 'r')\n",
    "\n",
    "plt.title('Sex Distribution Before & After Law')\n",
    "plt.xlabel('Sex')\n",
    "plt.xticks(rotation=90)\n",
    "plt.ylabel('Number of People')\n",
    "plt.show()"
   ]
  },
  {
   "cell_type": "markdown",
   "id": "491881c8",
   "metadata": {},
   "source": [
    "Similar to race, gender saw a decrease in positive contacts after the law was passed.  Based on these two graphs it appears that the new law hand no effect on discrimination based on race and gender."
   ]
  },
  {
   "cell_type": "markdown",
   "id": "f35f49d8",
   "metadata": {},
   "source": [
    "## MODELS"
   ]
  },
  {
   "cell_type": "code",
   "execution_count": 84,
   "id": "38612dae",
   "metadata": {},
   "outputs": [
    {
     "data": {
      "text/html": [
       "<div>\n",
       "<style scoped>\n",
       "    .dataframe tbody tr th:only-of-type {\n",
       "        vertical-align: middle;\n",
       "    }\n",
       "\n",
       "    .dataframe tbody tr th {\n",
       "        vertical-align: top;\n",
       "    }\n",
       "\n",
       "    .dataframe thead th {\n",
       "        text-align: right;\n",
       "    }\n",
       "</style>\n",
       "<table border=\"1\" class=\"dataframe\">\n",
       "  <thead>\n",
       "    <tr style=\"text-align: right;\">\n",
       "      <th></th>\n",
       "      <th>batch</th>\n",
       "      <th>Appnumber</th>\n",
       "      <th>Type</th>\n",
       "      <th>MonthlyRent</th>\n",
       "      <th>Size</th>\n",
       "      <th>RacialGroup</th>\n",
       "      <th>Sex</th>\n",
       "      <th>contact</th>\n",
       "      <th>Minneapolis</th>\n",
       "      <th>Law</th>\n",
       "      <th>Positive</th>\n",
       "      <th>StayAtHome</th>\n",
       "    </tr>\n",
       "  </thead>\n",
       "  <tbody>\n",
       "    <tr>\n",
       "      <th>0</th>\n",
       "      <td>5</td>\n",
       "      <td>1</td>\n",
       "      <td>2</td>\n",
       "      <td>1000</td>\n",
       "      <td>1</td>\n",
       "      <td>0</td>\n",
       "      <td>1</td>\n",
       "      <td>0</td>\n",
       "      <td>0.0</td>\n",
       "      <td>0</td>\n",
       "      <td>1</td>\n",
       "      <td>0</td>\n",
       "    </tr>\n",
       "    <tr>\n",
       "      <th>1</th>\n",
       "      <td>5</td>\n",
       "      <td>2</td>\n",
       "      <td>2</td>\n",
       "      <td>1000</td>\n",
       "      <td>1</td>\n",
       "      <td>0</td>\n",
       "      <td>0</td>\n",
       "      <td>0</td>\n",
       "      <td>0.0</td>\n",
       "      <td>0</td>\n",
       "      <td>1</td>\n",
       "      <td>0</td>\n",
       "    </tr>\n",
       "    <tr>\n",
       "      <th>2</th>\n",
       "      <td>5</td>\n",
       "      <td>3</td>\n",
       "      <td>2</td>\n",
       "      <td>1000</td>\n",
       "      <td>1</td>\n",
       "      <td>1</td>\n",
       "      <td>1</td>\n",
       "      <td>0</td>\n",
       "      <td>0.0</td>\n",
       "      <td>0</td>\n",
       "      <td>1</td>\n",
       "      <td>0</td>\n",
       "    </tr>\n",
       "    <tr>\n",
       "      <th>3</th>\n",
       "      <td>6</td>\n",
       "      <td>1</td>\n",
       "      <td>2</td>\n",
       "      <td>1410</td>\n",
       "      <td>1</td>\n",
       "      <td>0</td>\n",
       "      <td>0</td>\n",
       "      <td>1</td>\n",
       "      <td>1.0</td>\n",
       "      <td>0</td>\n",
       "      <td>0</td>\n",
       "      <td>0</td>\n",
       "    </tr>\n",
       "    <tr>\n",
       "      <th>4</th>\n",
       "      <td>6</td>\n",
       "      <td>2</td>\n",
       "      <td>2</td>\n",
       "      <td>1410</td>\n",
       "      <td>1</td>\n",
       "      <td>2</td>\n",
       "      <td>1</td>\n",
       "      <td>0</td>\n",
       "      <td>1.0</td>\n",
       "      <td>0</td>\n",
       "      <td>1</td>\n",
       "      <td>0</td>\n",
       "    </tr>\n",
       "  </tbody>\n",
       "</table>\n",
       "</div>"
      ],
      "text/plain": [
       "   batch  Appnumber  Type  MonthlyRent  Size  RacialGroup  Sex  contact  \\\n",
       "0      5          1     2         1000     1            0    1        0   \n",
       "1      5          2     2         1000     1            0    0        0   \n",
       "2      5          3     2         1000     1            1    1        0   \n",
       "3      6          1     2         1410     1            0    0        1   \n",
       "4      6          2     2         1410     1            2    1        0   \n",
       "\n",
       "   Minneapolis  Law  Positive  StayAtHome  \n",
       "0          0.0    0         1           0  \n",
       "1          0.0    0         1           0  \n",
       "2          0.0    0         1           0  \n",
       "3          1.0    0         0           0  \n",
       "4          1.0    0         1           0  "
      ]
     },
     "execution_count": 84,
     "metadata": {},
     "output_type": "execute_result"
    }
   ],
   "source": [
    "# discretize the dataset for better use in models\n",
    "data['Size'] = data['Size'].replace(['One bedroom units'], 1, regex=True)\n",
    "data['Size'] = data['Size'].replace(['Two or more bedrooms'], 2, regex=True)\n",
    "\n",
    "data['RacialGroup'] = data['RacialGroup'].replace(['White American'], 0, regex=True)\n",
    "data['RacialGroup'] = data['RacialGroup'].replace(['Somali American'], 1, regex=True)\n",
    "data['RacialGroup'] = data['RacialGroup'].replace(['African American'], 2, regex=True)\n",
    "\n",
    "data['Sex'] = data['Sex'].replace(['Male'], 0, regex=True)\n",
    "data['Sex'] = data['Sex'].replace(['Female'], 1, regex=True)\n",
    "\n",
    "data['contact'] = data['contact'].replace(['Positive contact'], 0, regex=True)\n",
    "data['contact'] = data['contact'].replace(['Ghosted'], 1, regex=True)\n",
    "data['contact'] = data['contact'].replace(['Ambiguous contact'], 2, regex=True)\n",
    "data['contact'] = data['contact'].replace(['Negative contact'], 3, regex=True)\n",
    "\n",
    "\n",
    "data['Minneapolis'] = data['Minneapolis'].replace(['Minneapolis'], 0, regex=True)\n",
    "data['Minneapolis'] = data['Minneapolis'].replace(['St. Paul and suburbs'], 1, regex=True)\n",
    "data['Minneapolis'] = data['Minneapolis'].replace(['nan'], 2, regex=True)\n",
    "\n",
    "data.head()"
   ]
  },
  {
   "cell_type": "code",
   "execution_count": 85,
   "id": "39342a52",
   "metadata": {},
   "outputs": [],
   "source": [
    "# drop nan values\n",
    "data = data.dropna()\n",
    "\n",
    "# break dataset into features and target variable\n",
    "x = data.drop('Positive', axis=1)\n",
    "y = data['Positive']\n",
    "\n",
    "# split into train and test sets\n",
    "x_train, x_test, y_train, y_test = train_test_split(x, y, test_size=0.2, random_state=42)"
   ]
  },
  {
   "cell_type": "markdown",
   "id": "eb15de87",
   "metadata": {},
   "source": [
    "### K-Nearest Neighbors Classification Model"
   ]
  },
  {
   "cell_type": "code",
   "execution_count": 86,
   "id": "19faccfd",
   "metadata": {},
   "outputs": [],
   "source": [
    "# create a generic kNN classifier\n",
    "knn = KNeighborsClassifier(n_neighbors=1).fit(x_train, y_train)"
   ]
  },
  {
   "cell_type": "code",
   "execution_count": 87,
   "id": "94cb9e09",
   "metadata": {},
   "outputs": [
    {
     "data": {
      "text/plain": [
       "0.7770814682184423"
      ]
     },
     "execution_count": 87,
     "metadata": {},
     "output_type": "execute_result"
    }
   ],
   "source": [
    "# predict test values\n",
    "y_pred = knn.predict(x_test)\n",
    "\n",
    "# return accuracy of model\n",
    "accuracy_score(y_test, y_pred)"
   ]
  },
  {
   "cell_type": "code",
   "execution_count": null,
   "id": "f656e44e",
   "metadata": {},
   "outputs": [],
   "source": []
  }
 ],
 "metadata": {
  "kernelspec": {
   "display_name": "Python 3 (ipykernel)",
   "language": "python",
   "name": "python3"
  },
  "language_info": {
   "codemirror_mode": {
    "name": "ipython",
    "version": 3
   },
   "file_extension": ".py",
   "mimetype": "text/x-python",
   "name": "python",
   "nbconvert_exporter": "python",
   "pygments_lexer": "ipython3",
   "version": "3.9.7"
  }
 },
 "nbformat": 4,
 "nbformat_minor": 5
}
